{
  "nbformat": 4,
  "nbformat_minor": 0,
  "metadata": {
    "kernelspec": {
      "display_name": "Python 3",
      "language": "python",
      "name": "python3"
    },
    "language_info": {
      "codemirror_mode": {
        "name": "ipython",
        "version": 3
      },
      "file_extension": ".py",
      "mimetype": "text/x-python",
      "name": "python",
      "nbconvert_exporter": "python",
      "pygments_lexer": "ipython3",
      "version": "3.7.3"
    },
    "colab": {
      "name": "Personal and Work Emails Python Program.ipynb",
      "provenance": [],
      "include_colab_link": true
    }
  },
  "cells": [
    {
      "cell_type": "markdown",
      "metadata": {
        "id": "view-in-github",
        "colab_type": "text"
      },
      "source": [
        "<a href=\"https://colab.research.google.com/github/ratanon97/AutomateBoring/blob/master/Personal_and_Work_Emails_Python_Program.ipynb\" target=\"_parent\"><img src=\"https://colab.research.google.com/assets/colab-badge.svg\" alt=\"Open In Colab\"/></a>"
      ]
    },
    {
      "cell_type": "code",
      "metadata": {
        "id": "MM_17MTUlvWv",
        "colab_type": "code",
        "colab": {}
      },
      "source": [
        "### https://automatetheboringstuff.com/chapter16/"
      ],
      "execution_count": 0,
      "outputs": []
    },
    {
      "cell_type": "code",
      "metadata": {
        "id": "WKJTIh8ZlvW4",
        "colab_type": "code",
        "colab": {}
      },
      "source": [
        "### Sending Emails"
      ],
      "execution_count": 0,
      "outputs": []
    },
    {
      "cell_type": "code",
      "metadata": {
        "id": "QKTeKVC6lvW7",
        "colab_type": "code",
        "colab": {}
      },
      "source": [
        "import smtplib #Simple Mail Transfer Protocol"
      ],
      "execution_count": 0,
      "outputs": []
    },
    {
      "cell_type": "code",
      "metadata": {
        "id": "B1PwQNyDlvXA",
        "colab_type": "code",
        "colab": {}
      },
      "source": [
        "conn = smtplib.SMTP(\"smtp-mail.outlook.com\") \n",
        "##Create a connector object\n",
        "##No need to input a port number for hotmail/outlook\n",
        "##For gmail, you have to include port number in the second argument of the function, which is 587\n",
        "##No need to input a port number for hotmail/outlook"
      ],
      "execution_count": 0,
      "outputs": []
    },
    {
      "cell_type": "code",
      "metadata": {
        "id": "zQV710gslvXD",
        "colab_type": "code",
        "colab": {}
      },
      "source": [
        "conn.ehlo() #Connect the server"
      ],
      "execution_count": 0,
      "outputs": []
    },
    {
      "cell_type": "code",
      "metadata": {
        "id": "wmYTRhz7lvXH",
        "colab_type": "code",
        "colab": {}
      },
      "source": [
        "conn.starttls() #Start the encryption of our password when we type it in, 220 means its okay!"
      ],
      "execution_count": 0,
      "outputs": []
    },
    {
      "cell_type": "code",
      "metadata": {
        "id": "uzRf4gCwlvXL",
        "colab_type": "code",
        "colab": {}
      },
      "source": [
        "conn.login(\"ratanon97@hotmail.com\",input(\"What is your password:\")) \n",
        "#Put input function here as a preventative measure of people forking your source code!"
      ],
      "execution_count": 0,
      "outputs": []
    },
    {
      "cell_type": "code",
      "metadata": {
        "id": "Frskao37lvXP",
        "colab_type": "code",
        "colab": {}
      },
      "source": [
        "conn.sendmail(\"ratanon97@hotmail.com\",\"tap45517@gmail.com\", \"Subject: Test Python Email\\n\\n Dear Tap, \\n This is a test email from Automate The Boring Stuff with Python! \\n Pretty slick, right!? \\n Looking forward to see you at the interview day \\n Best regards, \\n Ratanon Suksumrun\")"
      ],
      "execution_count": 0,
      "outputs": []
    },
    {
      "cell_type": "code",
      "metadata": {
        "id": "HeUlf1_mlvXU",
        "colab_type": "code",
        "colab": {}
      },
      "source": [
        "conn.quit() #Disconnect the server"
      ],
      "execution_count": 0,
      "outputs": []
    },
    {
      "cell_type": "code",
      "metadata": {
        "id": "WmNL9h2wlvXa",
        "colab_type": "code",
        "colab": {}
      },
      "source": [
        "### Checking the Email Inbox"
      ],
      "execution_count": 0,
      "outputs": []
    },
    {
      "cell_type": "code",
      "metadata": {
        "id": "vD_COAezlvXg",
        "colab_type": "code",
        "colab": {}
      },
      "source": [
        "import imapclient\n",
        "import imaplib"
      ],
      "execution_count": 0,
      "outputs": []
    },
    {
      "cell_type": "code",
      "metadata": {
        "id": "4TySQRaalvXl",
        "colab_type": "code",
        "colab": {}
      },
      "source": [
        "import pprint"
      ],
      "execution_count": 0,
      "outputs": []
    },
    {
      "cell_type": "code",
      "metadata": {
        "id": "v8me8zDslvXs",
        "colab_type": "code",
        "colab": {}
      },
      "source": [
        "imaplib._MAXLINE = 10000000 #Increase Size Limit on how many emails you can select"
      ],
      "execution_count": 0,
      "outputs": []
    },
    {
      "cell_type": "code",
      "metadata": {
        "id": "hYm5eEr2lvXx",
        "colab_type": "code",
        "colab": {}
      },
      "source": [
        "conn = imapclient.IMAPClient(\"imap-mail.outlook.com\",ssl=True)"
      ],
      "execution_count": 0,
      "outputs": []
    },
    {
      "cell_type": "code",
      "metadata": {
        "id": "OCNPtw9wlvX2",
        "colab_type": "code",
        "colab": {}
      },
      "source": [
        "conn.login(\"ratanon97@hotmail.com\",input(\"What is your password:\")) \n",
        "#Put input function here as a preventative measure of people forking your source code!"
      ],
      "execution_count": 0,
      "outputs": []
    },
    {
      "cell_type": "code",
      "metadata": {
        "id": "0tWrcUBTlvX9",
        "colab_type": "code",
        "colab": {}
      },
      "source": [
        "pprint.pprint(conn.list_folders()) #Print out all the folders"
      ],
      "execution_count": 0,
      "outputs": []
    },
    {
      "cell_type": "code",
      "metadata": {
        "id": "czCej3PclvYD",
        "colab_type": "code",
        "colab": {}
      },
      "source": [
        "conn.select_folder(\"Junk\",readonly=True)"
      ],
      "execution_count": 0,
      "outputs": []
    },
    {
      "cell_type": "code",
      "metadata": {
        "id": "gbeZWFX2lvYI",
        "colab_type": "code",
        "colab": {}
      },
      "source": [
        "UIDS = conn.search([\"ALL\"]) \n",
        "#Unique IDS\n",
        "#Select All of the Junk Mail\n",
        "## Syntax for BEFORE and SINCE are now [\"BEFORE\", \"01-Jan-2018\"] NOT [\"BEFORE 01-Jan-2018\"]"
      ],
      "execution_count": 0,
      "outputs": []
    },
    {
      "cell_type": "code",
      "metadata": {
        "id": "YnduPAkHlvYO",
        "colab_type": "code",
        "colab": {}
      },
      "source": [
        "UIDS"
      ],
      "execution_count": 0,
      "outputs": []
    },
    {
      "cell_type": "code",
      "metadata": {
        "id": "qKUh_AuvlvYT",
        "colab_type": "code",
        "colab": {}
      },
      "source": [
        "rawMessage = conn.fetch([9103],[\"BODY[]\",\"FLAGS\"])"
      ],
      "execution_count": 0,
      "outputs": []
    },
    {
      "cell_type": "code",
      "metadata": {
        "id": "sOmNz7KhlvYZ",
        "colab_type": "code",
        "colab": {}
      },
      "source": [
        "import pyzmail"
      ],
      "execution_count": 0,
      "outputs": []
    },
    {
      "cell_type": "code",
      "metadata": {
        "id": "CjLJhM9dlvYg",
        "colab_type": "code",
        "colab": {}
      },
      "source": [
        "message = pyzmail.PyzMessage.factory(rawMessage[9103][b\"BODY[]\"])"
      ],
      "execution_count": 0,
      "outputs": []
    },
    {
      "cell_type": "code",
      "metadata": {
        "id": "lJClxQA1lvYl",
        "colab_type": "code",
        "colab": {}
      },
      "source": [
        "message.get_subject()"
      ],
      "execution_count": 0,
      "outputs": []
    },
    {
      "cell_type": "code",
      "metadata": {
        "id": "em2tU2GXlvYr",
        "colab_type": "code",
        "colab": {}
      },
      "source": [
        "message.get_addresses(\"from\")"
      ],
      "execution_count": 0,
      "outputs": []
    },
    {
      "cell_type": "code",
      "metadata": {
        "id": "QcTWbigVlvYv",
        "colab_type": "code",
        "colab": {}
      },
      "source": [
        "message.get_addresses(\"to\")"
      ],
      "execution_count": 0,
      "outputs": []
    },
    {
      "cell_type": "code",
      "metadata": {
        "id": "wM1Rn_4YlvYz",
        "colab_type": "code",
        "colab": {}
      },
      "source": [
        "message.get_addresses(\"bcc\")"
      ],
      "execution_count": 0,
      "outputs": []
    },
    {
      "cell_type": "code",
      "metadata": {
        "id": "GTBdzaTLlvY5",
        "colab_type": "code",
        "colab": {}
      },
      "source": [
        "#To get the body of a text\n",
        "#Check if its text or HTML"
      ],
      "execution_count": 0,
      "outputs": []
    },
    {
      "cell_type": "code",
      "metadata": {
        "id": "bFCVS3B-lvY_",
        "colab_type": "code",
        "colab": {}
      },
      "source": [
        "message.text_part #Check if the messages are just plain text"
      ],
      "execution_count": 0,
      "outputs": []
    },
    {
      "cell_type": "code",
      "metadata": {
        "id": "so-ptBm1lvZD",
        "colab_type": "code",
        "colab": {}
      },
      "source": [
        "message.html_part #Check if the messages contain some HTML element"
      ],
      "execution_count": 0,
      "outputs": []
    },
    {
      "cell_type": "code",
      "metadata": {
        "id": "PAUtZfeClvZI",
        "colab_type": "code",
        "colab": {}
      },
      "source": [
        "message.html_part.get_payload().decode(\"UTF-8\") #Argument for decode will always be UTF-8"
      ],
      "execution_count": 0,
      "outputs": []
    },
    {
      "cell_type": "code",
      "metadata": {
        "id": "DRF9IdH-lvZQ",
        "colab_type": "code",
        "colab": {}
      },
      "source": [
        "#If it doesn't show anything, it means it returned a None value. Make sure you check this by comparing it with a None"
      ],
      "execution_count": 0,
      "outputs": []
    },
    {
      "cell_type": "code",
      "metadata": {
        "id": "lEB1IGLBlvZX",
        "colab_type": "code",
        "colab": {}
      },
      "source": [
        "#Deleting Emails"
      ],
      "execution_count": 0,
      "outputs": []
    },
    {
      "cell_type": "code",
      "metadata": {
        "id": "p8AqC5QxlvZd",
        "colab_type": "code",
        "colab": {}
      },
      "source": [
        "#Junk Emails"
      ],
      "execution_count": 0,
      "outputs": []
    },
    {
      "cell_type": "code",
      "metadata": {
        "id": "asGCBHamlvZj",
        "colab_type": "code",
        "colab": {}
      },
      "source": [
        "conn.select_folder(\"Junk\",readonly = False)"
      ],
      "execution_count": 0,
      "outputs": []
    },
    {
      "cell_type": "code",
      "metadata": {
        "id": "O2ppyU7blvZp",
        "colab_type": "code",
        "colab": {}
      },
      "source": [
        "UIDS = conn.search([\"ALL\"])"
      ],
      "execution_count": 0,
      "outputs": []
    },
    {
      "cell_type": "code",
      "metadata": {
        "id": "56Db-ad-lvZw",
        "colab_type": "code",
        "colab": {}
      },
      "source": [
        "UIDS"
      ],
      "execution_count": 0,
      "outputs": []
    },
    {
      "cell_type": "code",
      "metadata": {
        "id": "4I_SVWDelvZ9",
        "colab_type": "code",
        "colab": {}
      },
      "source": [
        "conn.delete_messages(UIDS)"
      ],
      "execution_count": 0,
      "outputs": []
    },
    {
      "cell_type": "code",
      "metadata": {
        "id": "gvvXaJAilvaA",
        "colab_type": "code",
        "colab": {}
      },
      "source": [
        "conn.logout()"
      ],
      "execution_count": 0,
      "outputs": []
    },
    {
      "cell_type": "code",
      "metadata": {
        "id": "S_qPNx6VlvaD",
        "colab_type": "code",
        "colab": {}
      },
      "source": [
        "##Mails (Inbox) "
      ],
      "execution_count": 0,
      "outputs": []
    },
    {
      "cell_type": "code",
      "metadata": {
        "id": "gJXwJ4qOlvaG",
        "colab_type": "code",
        "colab": {}
      },
      "source": [
        "conn.select_folder(\"Inbox\",readonly = False)"
      ],
      "execution_count": 0,
      "outputs": []
    },
    {
      "cell_type": "code",
      "metadata": {
        "id": "RwM-Fi5WlvaK",
        "colab_type": "code",
        "colab": {}
      },
      "source": [
        "UIDS = conn.search([\"BEFORE\", \"01-Jan-2018\"])"
      ],
      "execution_count": 0,
      "outputs": []
    },
    {
      "cell_type": "code",
      "metadata": {
        "id": "IPS7dpOZlvaS",
        "colab_type": "code",
        "colab": {}
      },
      "source": [
        "UIDS"
      ],
      "execution_count": 0,
      "outputs": []
    },
    {
      "cell_type": "code",
      "metadata": {
        "id": "SDzlifS-lvaW",
        "colab_type": "code",
        "colab": {}
      },
      "source": [
        "conn.delete_messages(UIDS) "
      ],
      "execution_count": 0,
      "outputs": []
    },
    {
      "cell_type": "code",
      "metadata": {
        "id": "b1VTTnQ8lvaf",
        "colab_type": "code",
        "colab": {}
      },
      "source": [
        "##If the error for the conn.delete_messages() shows: UID command error: BAD [b'Command Error. 10']\n",
        "## It means that the selected emails from the search function were too much! Try decrease the size of the emails that you want to delete"
      ],
      "execution_count": 0,
      "outputs": []
    }
  ]
}