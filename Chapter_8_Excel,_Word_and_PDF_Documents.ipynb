{
  "nbformat": 4,
  "nbformat_minor": 0,
  "metadata": {
    "kernelspec": {
      "display_name": "Python 3",
      "language": "python",
      "name": "python3"
    },
    "language_info": {
      "codemirror_mode": {
        "name": "ipython",
        "version": 3
      },
      "file_extension": ".py",
      "mimetype": "text/x-python",
      "name": "python",
      "nbconvert_exporter": "python",
      "pygments_lexer": "ipython3",
      "version": "3.7.3"
    },
    "colab": {
      "name": "Chapter 8 Excel, Word and PDF Documents.ipynb",
      "provenance": [],
      "include_colab_link": true
    }
  },
  "cells": [
    {
      "cell_type": "markdown",
      "metadata": {
        "id": "view-in-github",
        "colab_type": "text"
      },
      "source": [
        "<a href=\"https://colab.research.google.com/github/ratanon97/AutomateBoring/blob/master/Chapter_8_Excel%2C_Word_and_PDF_Documents.ipynb\" target=\"_parent\"><img src=\"https://colab.research.google.com/assets/colab-badge.svg\" alt=\"Open In Colab\"/></a>"
      ]
    },
    {
      "cell_type": "code",
      "metadata": {
        "id": "0t5S9vJELWUZ",
        "colab_type": "code",
        "colab": {}
      },
      "source": [
        "###Automate the Boring Stuff with Python Chapter 12\n",
        "###https://automatetheboringstuff.com/chapter12/"
      ],
      "execution_count": 0,
      "outputs": []
    },
    {
      "cell_type": "code",
      "metadata": {
        "id": "q_-bR3n1LWUi",
        "colab_type": "code",
        "colab": {}
      },
      "source": [
        "###Reading Excel Files"
      ],
      "execution_count": 0,
      "outputs": []
    },
    {
      "cell_type": "code",
      "metadata": {
        "id": "aERA1M1pLWUq",
        "colab_type": "code",
        "colab": {}
      },
      "source": [
        "import openpyxl"
      ],
      "execution_count": 0,
      "outputs": []
    },
    {
      "cell_type": "code",
      "metadata": {
        "id": "ibCKIuHLLWUw",
        "colab_type": "code",
        "colab": {}
      },
      "source": [
        "import os"
      ],
      "execution_count": 0,
      "outputs": []
    },
    {
      "cell_type": "code",
      "metadata": {
        "id": "qEo2k1fKLWUz",
        "colab_type": "code",
        "colab": {}
      },
      "source": [
        "os.chdir(\"C:\\\\Users\\\\KOMSUN\\\\Documents\\\\GitHub\\\\AutomateBoring\\\\Course Materials\\\\automate_online-materials\")\n"
      ],
      "execution_count": 0,
      "outputs": []
    },
    {
      "cell_type": "code",
      "metadata": {
        "id": "8i0A2r-6LWU4",
        "colab_type": "code",
        "colab": {}
      },
      "source": [
        "workbook = openpyxl.load_workbook(\"example.xlsx\") #Open Excel Workbook"
      ],
      "execution_count": 0,
      "outputs": []
    },
    {
      "cell_type": "code",
      "metadata": {
        "id": "PKZW_kt4LWVA",
        "colab_type": "code",
        "colab": {},
        "outputId": "c189a7b9-99a4-41de-aa09-94c485536b70"
      },
      "source": [
        "type(workbook) "
      ],
      "execution_count": 0,
      "outputs": [
        {
          "output_type": "execute_result",
          "data": {
            "text/plain": [
              "openpyxl.workbook.workbook.Workbook"
            ]
          },
          "metadata": {
            "tags": []
          },
          "execution_count": 6
        }
      ]
    },
    {
      "cell_type": "code",
      "metadata": {
        "id": "F7YGo-IRLWVJ",
        "colab_type": "code",
        "colab": {},
        "outputId": "f77c61be-7118-4275-f4f6-45b49badbfb9"
      },
      "source": [
        "sheet = workbook.get_sheet_by_name(\"Sheet1\") #Return a sheet object"
      ],
      "execution_count": 0,
      "outputs": [
        {
          "output_type": "stream",
          "text": [
            "C:\\Users\\KOMSUN\\Anaconda3\\lib\\site-packages\\ipykernel_launcher.py:1: DeprecationWarning: Call to deprecated function get_sheet_by_name (Use wb[sheetname]).\n",
            "  \"\"\"Entry point for launching an IPython kernel.\n"
          ],
          "name": "stderr"
        }
      ]
    },
    {
      "cell_type": "code",
      "metadata": {
        "id": "SJAsTrKCLWVO",
        "colab_type": "code",
        "colab": {},
        "outputId": "03a5e3cd-b1ac-439f-d81e-7084de6beeb3"
      },
      "source": [
        "workbook.get_sheet_names()"
      ],
      "execution_count": 0,
      "outputs": [
        {
          "output_type": "stream",
          "text": [
            "C:\\Users\\KOMSUN\\Anaconda3\\lib\\site-packages\\ipykernel_launcher.py:1: DeprecationWarning: Call to deprecated function get_sheet_names (Use wb.sheetnames).\n",
            "  \"\"\"Entry point for launching an IPython kernel.\n"
          ],
          "name": "stderr"
        },
        {
          "output_type": "execute_result",
          "data": {
            "text/plain": [
              "['Sheet1', 'Sheet2', 'Sheet3']"
            ]
          },
          "metadata": {
            "tags": []
          },
          "execution_count": 9
        }
      ]
    },
    {
      "cell_type": "code",
      "metadata": {
        "id": "_QjGUSJILWVR",
        "colab_type": "code",
        "colab": {}
      },
      "source": [
        "cell = sheet[\"A1\"]"
      ],
      "execution_count": 0,
      "outputs": []
    },
    {
      "cell_type": "code",
      "metadata": {
        "id": "E5TVna_rLWVV",
        "colab_type": "code",
        "colab": {},
        "outputId": "a9410e6d-495d-4b35-ba21-34a2ce2fe66f"
      },
      "source": [
        "cell.value"
      ],
      "execution_count": 0,
      "outputs": [
        {
          "output_type": "execute_result",
          "data": {
            "text/plain": [
              "datetime.datetime(2015, 4, 5, 13, 34, 2)"
            ]
          },
          "metadata": {
            "tags": []
          },
          "execution_count": 14
        }
      ]
    },
    {
      "cell_type": "code",
      "metadata": {
        "id": "P5KkYQGoLWVY",
        "colab_type": "code",
        "colab": {},
        "outputId": "9296f7bd-598f-420a-e7d0-2e762e90edad"
      },
      "source": [
        "str(cell.value)"
      ],
      "execution_count": 0,
      "outputs": [
        {
          "output_type": "execute_result",
          "data": {
            "text/plain": [
              "'2015-04-05 13:34:02'"
            ]
          },
          "metadata": {
            "tags": []
          },
          "execution_count": 15
        }
      ]
    },
    {
      "cell_type": "code",
      "metadata": {
        "id": "K0401CTILWVb",
        "colab_type": "code",
        "colab": {},
        "outputId": "4b1148ab-579f-43ac-aaf8-cd540f31f5b9"
      },
      "source": [
        "sheet.cell(row=1,column=2) #Return the same thing as sheet[\"B1\"]"
      ],
      "execution_count": 0,
      "outputs": [
        {
          "output_type": "execute_result",
          "data": {
            "text/plain": [
              "<Cell 'Sheet1'.B1>"
            ]
          },
          "metadata": {
            "tags": []
          },
          "execution_count": 17
        }
      ]
    },
    {
      "cell_type": "code",
      "metadata": {
        "id": "ToxCUF1DLWVe",
        "colab_type": "code",
        "colab": {},
        "outputId": "66cb0bbd-318f-4e30-d5b1-6523fd6a77e8"
      },
      "source": [
        "for i in range(1,8):\n",
        "    print(i,sheet.cell(row=1,column=2).value)"
      ],
      "execution_count": 0,
      "outputs": [
        {
          "output_type": "stream",
          "text": [
            "1 Apples\n",
            "2 Apples\n",
            "3 Apples\n",
            "4 Apples\n",
            "5 Apples\n",
            "6 Apples\n",
            "7 Apples\n"
          ],
          "name": "stdout"
        }
      ]
    },
    {
      "cell_type": "code",
      "metadata": {
        "id": "r0G4mny7LWVj",
        "colab_type": "code",
        "colab": {}
      },
      "source": [
        "###Editing Excel Spreadsheets"
      ],
      "execution_count": 0,
      "outputs": []
    },
    {
      "cell_type": "code",
      "metadata": {
        "id": "P3d7vuETLWVn",
        "colab_type": "code",
        "colab": {}
      },
      "source": [
        "wb = openpyxl.Workbook() #This creates a new blank spreadsheet"
      ],
      "execution_count": 0,
      "outputs": []
    },
    {
      "cell_type": "code",
      "metadata": {
        "id": "E2QQAoBpLWVs",
        "colab_type": "code",
        "colab": {},
        "outputId": "69ba5fd1-e146-403d-ccaf-249a7eab628b"
      },
      "source": [
        "wb.get_sheet_names()"
      ],
      "execution_count": 0,
      "outputs": [
        {
          "output_type": "stream",
          "text": [
            "C:\\Users\\KOMSUN\\Anaconda3\\lib\\site-packages\\ipykernel_launcher.py:1: DeprecationWarning: Call to deprecated function get_sheet_names (Use wb.sheetnames).\n",
            "  \"\"\"Entry point for launching an IPython kernel.\n"
          ],
          "name": "stderr"
        },
        {
          "output_type": "execute_result",
          "data": {
            "text/plain": [
              "['Sheet']"
            ]
          },
          "metadata": {
            "tags": []
          },
          "execution_count": 20
        }
      ]
    },
    {
      "cell_type": "code",
      "metadata": {
        "id": "wSREV-VALWVw",
        "colab_type": "code",
        "colab": {},
        "outputId": "75debf30-c1a7-4c08-8212-7a3ff33c2668"
      },
      "source": [
        "sheet = wb.get_sheet_by_name(\"Sheet\")"
      ],
      "execution_count": 0,
      "outputs": [
        {
          "output_type": "stream",
          "text": [
            "C:\\Users\\KOMSUN\\Anaconda3\\lib\\site-packages\\ipykernel_launcher.py:1: DeprecationWarning: Call to deprecated function get_sheet_by_name (Use wb[sheetname]).\n",
            "  \"\"\"Entry point for launching an IPython kernel.\n"
          ],
          "name": "stderr"
        }
      ]
    },
    {
      "cell_type": "code",
      "metadata": {
        "id": "ID3_3flxLWV3",
        "colab_type": "code",
        "colab": {}
      },
      "source": [
        "sheet[\"A1\"] = 42"
      ],
      "execution_count": 0,
      "outputs": []
    },
    {
      "cell_type": "code",
      "metadata": {
        "id": "og5Gdxv8LWV7",
        "colab_type": "code",
        "colab": {}
      },
      "source": [
        "sheet[\"A2\"] = \"Hello\""
      ],
      "execution_count": 0,
      "outputs": []
    },
    {
      "cell_type": "code",
      "metadata": {
        "id": "I0-ZLlTiLWV-",
        "colab_type": "code",
        "colab": {}
      },
      "source": [
        "os.chdir(\"C:\\\\Users\\\\KOMSUN\\\\Documents\\\\GitHub\\\\AutomateBoring\\\\Course Notes\")\n"
      ],
      "execution_count": 0,
      "outputs": []
    },
    {
      "cell_type": "code",
      "metadata": {
        "id": "pAu0Z5IjLWWC",
        "colab_type": "code",
        "colab": {}
      },
      "source": [
        "wb.save(\"Test.xlsx\")"
      ],
      "execution_count": 0,
      "outputs": []
    },
    {
      "cell_type": "code",
      "metadata": {
        "id": "kMpzYG0dLWWF",
        "colab_type": "code",
        "colab": {}
      },
      "source": [
        "sheet2 = wb.create_sheet()"
      ],
      "execution_count": 0,
      "outputs": []
    },
    {
      "cell_type": "code",
      "metadata": {
        "id": "BqU6WJrDLWWH",
        "colab_type": "code",
        "colab": {},
        "outputId": "b5801321-a274-46da-dfa5-fd96e36c1e60"
      },
      "source": [
        "wb.get_sheet_names()"
      ],
      "execution_count": 0,
      "outputs": [
        {
          "output_type": "stream",
          "text": [
            "C:\\Users\\KOMSUN\\Anaconda3\\lib\\site-packages\\ipykernel_launcher.py:1: DeprecationWarning: Call to deprecated function get_sheet_names (Use wb.sheetnames).\n",
            "  \"\"\"Entry point for launching an IPython kernel.\n"
          ],
          "name": "stderr"
        },
        {
          "output_type": "execute_result",
          "data": {
            "text/plain": [
              "['Sheet', 'My New Sheet Name']"
            ]
          },
          "metadata": {
            "tags": []
          },
          "execution_count": 33
        }
      ]
    },
    {
      "cell_type": "code",
      "metadata": {
        "id": "q7rkfrzoLWWK",
        "colab_type": "code",
        "colab": {}
      },
      "source": [
        "sheet2.title = \"My New Sheet Name\" ##Create title"
      ],
      "execution_count": 0,
      "outputs": []
    },
    {
      "cell_type": "code",
      "metadata": {
        "id": "domWTjA9LWWN",
        "colab_type": "code",
        "colab": {}
      },
      "source": [
        "wb.save(\"New.xlsx\")"
      ],
      "execution_count": 0,
      "outputs": []
    },
    {
      "cell_type": "code",
      "metadata": {
        "id": "5DUwUOirLWWQ",
        "colab_type": "code",
        "colab": {},
        "outputId": "6e7be282-241b-4217-8e9b-d70c36f10a9e"
      },
      "source": [
        "wb.create_sheet(index = 0, title = \"My Other Sheet\" )"
      ],
      "execution_count": 0,
      "outputs": [
        {
          "output_type": "execute_result",
          "data": {
            "text/plain": [
              "<Worksheet \"My Other Sheet\">"
            ]
          },
          "metadata": {
            "tags": []
          },
          "execution_count": 36
        }
      ]
    }
  ]
}