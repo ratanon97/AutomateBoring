{
 "cells": [
  {
   "cell_type": "code",
   "execution_count": null,
   "metadata": {},
   "outputs": [],
   "source": [
    "### Automate The Boring Stuff with Python \n",
    "### https://automatetheboringstuff.com/chapter16/"
   ]
  },
  {
   "cell_type": "code",
   "execution_count": null,
   "metadata": {},
   "outputs": [],
   "source": [
    "### Sending Emails"
   ]
  },
  {
   "cell_type": "code",
   "execution_count": null,
   "metadata": {},
   "outputs": [],
   "source": [
    "import smtplib #Simple Mail Transfer Protocol"
   ]
  },
  {
   "cell_type": "code",
   "execution_count": null,
   "metadata": {},
   "outputs": [],
   "source": [
    "conn = smtplib.SMTP(\"smtp-mail.outlook.com\") ##No need to input a port number for hotmail/outlook"
   ]
  },
  {
   "cell_type": "code",
   "execution_count": null,
   "metadata": {},
   "outputs": [],
   "source": [
    "conn.ehlo() #Connect the server"
   ]
  },
  {
   "cell_type": "code",
   "execution_count": null,
   "metadata": {},
   "outputs": [],
   "source": [
    "conn.starttls() #Start the encryption of our password when we type it in, 220 means its okay!"
   ]
  },
  {
   "cell_type": "code",
   "execution_count": null,
   "metadata": {},
   "outputs": [],
   "source": [
    "{\n",
    "    \"tags\": [\n",
    "        \"hide_output\",\n",
    "    ]\n",
    "} #Prevent showing the cell output\n",
    "conn.login(\"ratanon97@hotmail.com\",input(\"What is your password:\")) #Put input function here as a preventative measure of people forking your source code!"
   ]
  },
  {
   "cell_type": "code",
   "execution_count": null,
   "metadata": {},
   "outputs": [],
   "source": [
    "conn.sendmail(\"ratanon97@hotmail.com\",\"tap45517@gmail.com\", \"Subject: Test Python Email\\n\\n Dear Tap, \\n This is a test email from Automate The Boring Stuff with Python! \\n Pretty slick, right!? \\n Looking forward to see you at the interview day \\n Best regards, \\n Ratanon Suksumrun\")"
   ]
  },
  {
   "cell_type": "code",
   "execution_count": null,
   "metadata": {},
   "outputs": [],
   "source": [
    "conn.quit() #Disconnect the server"
   ]
  },
  {
   "cell_type": "code",
   "execution_count": null,
   "metadata": {},
   "outputs": [],
   "source": [
    "### Checking the Email Inbox"
   ]
  },
  {
   "cell_type": "code",
   "execution_count": 1,
   "metadata": {},
   "outputs": [],
   "source": [
    "import imapclient"
   ]
  },
  {
   "cell_type": "code",
   "execution_count": 10,
   "metadata": {},
   "outputs": [],
   "source": [
    "import pprint"
   ]
  },
  {
   "cell_type": "code",
   "execution_count": 5,
   "metadata": {},
   "outputs": [],
   "source": [
    "conn = imapclient.IMAPClient(\"imap-mail.outlook.com\",ssl=True)"
   ]
  },
  {
   "cell_type": "code",
   "execution_count": 6,
   "metadata": {},
   "outputs": [
    {
     "name": "stdout",
     "output_type": "stream",
     "text": [
      "What is your password:tap45517\n"
     ]
    },
    {
     "data": {
      "text/plain": [
       "b'LOGIN completed.'"
      ]
     },
     "execution_count": 6,
     "metadata": {},
     "output_type": "execute_result"
    }
   ],
   "source": [
    "conn.login(\"ratanon97@hotmail.com\",input(\"What is your password:\")) #Put input function here as a preventative measure of people forking your source code!"
   ]
  },
  {
   "cell_type": "code",
   "execution_count": 11,
   "metadata": {},
   "outputs": [
    {
     "name": "stdout",
     "output_type": "stream",
     "text": [
      "[((b'\\\\HasNoChildren',), b'/', 'Archive'),\n",
      " ((b'\\\\HasNoChildren', b'\\\\Trash'), b'/', 'Deleted'),\n",
      " ((b'\\\\HasNoChildren', b'\\\\Drafts'), b'/', 'Drafts'),\n",
      " ((b'\\\\HasNoChildren',), b'/', 'Drama A Level'),\n",
      " ((b'\\\\HasNoChildren',), b'/', 'Finimize'),\n",
      " ((b'\\\\HasNoChildren',), b'/', 'Flight information'),\n",
      " ((b'\\\\HasNoChildren',), b'/', 'Iceland tri'),\n",
      " ((b'\\\\HasNoChildren',), b'/', 'Iceland Visa stuff'),\n",
      " ((b'\\\\HasNoChildren',), b'/', 'IMechE'),\n",
      " ((b'\\\\HasNoChildren',), b'/', 'Imperial College'),\n",
      " ((b'\\\\Marked', b'\\\\HasNoChildren'), b'/', 'Inbox'),\n",
      " ((b'\\\\HasNoChildren',), b'/', 'IRPC'),\n",
      " ((b'\\\\HasNoChildren', b'\\\\Junk'), b'/', 'Junk'),\n",
      " ((b'\\\\HasNoChildren',), b'/', 'Keep for mom'),\n",
      " ((b'\\\\HasNoChildren',), b'/', 'Lancaster University'),\n",
      " ((b'\\\\HasNoChildren',), b'/', 'Notes'),\n",
      " ((b'\\\\HasNoChildren',), b'/', 'Outbox'),\n",
      " ((b'\\\\HasNoChildren',), b'/', 'Pre-Imperial College'),\n",
      " ((b'\\\\HasNoChildren',), b'/', 'Scheduled'),\n",
      " ((b'\\\\HasNoChildren', b'\\\\Sent'), b'/', 'Sent'),\n",
      " ((b'\\\\HasNoChildren',), b'/', 'Universities')]\n"
     ]
    }
   ],
   "source": [
    "pprint.pprint(conn.list_folders()) #Print out all the folders"
   ]
  },
  {
   "cell_type": "code",
   "execution_count": 12,
   "metadata": {},
   "outputs": [
    {
     "data": {
      "text/plain": [
       "{b'PERMANENTFLAGS': (),\n",
       " b'EXISTS': 206,\n",
       " b'RECENT': 206,\n",
       " b'FLAGS': (b'\\\\Seen',\n",
       "  b'\\\\Answered',\n",
       "  b'\\\\Flagged',\n",
       "  b'\\\\Deleted',\n",
       "  b'\\\\Draft',\n",
       "  b'$MDNSent'),\n",
       " b'UNSEEN': [b'1'],\n",
       " b'UIDVALIDITY': 215,\n",
       " b'UIDNEXT': 9106,\n",
       " b'READ-ONLY': [b'']}"
      ]
     },
     "execution_count": 12,
     "metadata": {},
     "output_type": "execute_result"
    }
   ],
   "source": [
    "#Lets delete some junk mail\n",
    "conn.select_folder(\"Junk\",readonly=True)"
   ]
  },
  {
   "cell_type": "code",
   "execution_count": 15,
   "metadata": {},
   "outputs": [],
   "source": [
    "UIDS = conn.search([\"ALL\"]) #DD-MMM-YYYY"
   ]
  },
  {
   "cell_type": "code",
   "execution_count": 16,
   "metadata": {},
   "outputs": [
    {
     "data": {
      "text/plain": [
       "[8859,\n",
       " 8860,\n",
       " 8861,\n",
       " 8863,\n",
       " 8864,\n",
       " 8866,\n",
       " 8867,\n",
       " 8868,\n",
       " 8869,\n",
       " 8871,\n",
       " 8873,\n",
       " 8874,\n",
       " 8875,\n",
       " 8876,\n",
       " 8877,\n",
       " 8878,\n",
       " 8879,\n",
       " 8882,\n",
       " 8883,\n",
       " 8885,\n",
       " 8886,\n",
       " 8887,\n",
       " 8888,\n",
       " 8889,\n",
       " 8890,\n",
       " 8891,\n",
       " 8892,\n",
       " 8893,\n",
       " 8894,\n",
       " 8895,\n",
       " 8896,\n",
       " 8897,\n",
       " 8898,\n",
       " 8899,\n",
       " 8900,\n",
       " 8901,\n",
       " 8902,\n",
       " 8904,\n",
       " 8905,\n",
       " 8906,\n",
       " 8908,\n",
       " 8910,\n",
       " 8911,\n",
       " 8912,\n",
       " 8913,\n",
       " 8915,\n",
       " 8916,\n",
       " 8917,\n",
       " 8918,\n",
       " 8919,\n",
       " 8920,\n",
       " 8921,\n",
       " 8922,\n",
       " 8923,\n",
       " 8924,\n",
       " 8925,\n",
       " 8926,\n",
       " 8927,\n",
       " 8928,\n",
       " 8929,\n",
       " 8930,\n",
       " 8931,\n",
       " 8932,\n",
       " 8933,\n",
       " 8934,\n",
       " 8935,\n",
       " 8936,\n",
       " 8937,\n",
       " 8938,\n",
       " 8939,\n",
       " 8940,\n",
       " 8941,\n",
       " 8942,\n",
       " 8943,\n",
       " 8944,\n",
       " 8945,\n",
       " 8946,\n",
       " 8947,\n",
       " 8948,\n",
       " 8949,\n",
       " 8950,\n",
       " 8951,\n",
       " 8952,\n",
       " 8953,\n",
       " 8954,\n",
       " 8955,\n",
       " 8956,\n",
       " 8957,\n",
       " 8958,\n",
       " 8959,\n",
       " 8960,\n",
       " 8961,\n",
       " 8962,\n",
       " 8973,\n",
       " 8974,\n",
       " 8975,\n",
       " 8977,\n",
       " 8979,\n",
       " 8980,\n",
       " 8981,\n",
       " 8982,\n",
       " 8983,\n",
       " 8984,\n",
       " 8985,\n",
       " 8986,\n",
       " 8987,\n",
       " 8988,\n",
       " 8989,\n",
       " 8991,\n",
       " 8992,\n",
       " 8993,\n",
       " 8994,\n",
       " 8995,\n",
       " 8996,\n",
       " 8998,\n",
       " 8999,\n",
       " 9000,\n",
       " 9001,\n",
       " 9002,\n",
       " 9003,\n",
       " 9004,\n",
       " 9006,\n",
       " 9007,\n",
       " 9008,\n",
       " 9009,\n",
       " 9011,\n",
       " 9012,\n",
       " 9013,\n",
       " 9014,\n",
       " 9015,\n",
       " 9016,\n",
       " 9017,\n",
       " 9018,\n",
       " 9019,\n",
       " 9020,\n",
       " 9022,\n",
       " 9023,\n",
       " 9024,\n",
       " 9025,\n",
       " 9026,\n",
       " 9027,\n",
       " 9028,\n",
       " 9029,\n",
       " 9030,\n",
       " 9032,\n",
       " 9033,\n",
       " 9034,\n",
       " 9035,\n",
       " 9036,\n",
       " 9037,\n",
       " 9038,\n",
       " 9039,\n",
       " 9041,\n",
       " 9042,\n",
       " 9043,\n",
       " 9046,\n",
       " 9047,\n",
       " 9048,\n",
       " 9049,\n",
       " 9050,\n",
       " 9051,\n",
       " 9052,\n",
       " 9055,\n",
       " 9056,\n",
       " 9057,\n",
       " 9058,\n",
       " 9059,\n",
       " 9060,\n",
       " 9061,\n",
       " 9062,\n",
       " 9064,\n",
       " 9065,\n",
       " 9068,\n",
       " 9069,\n",
       " 9070,\n",
       " 9071,\n",
       " 9072,\n",
       " 9073,\n",
       " 9074,\n",
       " 9075,\n",
       " 9077,\n",
       " 9079,\n",
       " 9081,\n",
       " 9082,\n",
       " 9084,\n",
       " 9085,\n",
       " 9086,\n",
       " 9087,\n",
       " 9088,\n",
       " 9089,\n",
       " 9090,\n",
       " 9091,\n",
       " 9092,\n",
       " 9093,\n",
       " 9094,\n",
       " 9095,\n",
       " 9096,\n",
       " 9097,\n",
       " 9098,\n",
       " 9099,\n",
       " 9100,\n",
       " 9101,\n",
       " 9102,\n",
       " 9103,\n",
       " 9104,\n",
       " 9105]"
      ]
     },
     "execution_count": 16,
     "metadata": {},
     "output_type": "execute_result"
    }
   ],
   "source": [
    "UIDS"
   ]
  },
  {
   "cell_type": "code",
   "execution_count": 17,
   "metadata": {},
   "outputs": [],
   "source": [
    "rawMessage = conn.fetch([9103],[\"BODY[]\",\"FLAGS\"])"
   ]
  },
  {
   "cell_type": "code",
   "execution_count": 18,
   "metadata": {},
   "outputs": [],
   "source": [
    "import pyzmail"
   ]
  },
  {
   "cell_type": "code",
   "execution_count": 21,
   "metadata": {},
   "outputs": [],
   "source": [
    "message = pyzmail.PyzMessage.factory(rawMessage[9103][b\"BODY[]\"])"
   ]
  },
  {
   "cell_type": "code",
   "execution_count": 22,
   "metadata": {},
   "outputs": [
    {
     "data": {
      "text/plain": [
       "'48 hours left! Up to 80% OFF Korean Beauty & Fashion - Act Now!'"
      ]
     },
     "execution_count": 22,
     "metadata": {},
     "output_type": "execute_result"
    }
   ],
   "source": [
    "message.get_subject()"
   ]
  },
  {
   "cell_type": "code",
   "execution_count": 24,
   "metadata": {},
   "outputs": [
    {
     "data": {
      "text/plain": [
       "[('YesStyle.com', 'news@e.yesstyle.com')]"
      ]
     },
     "execution_count": 24,
     "metadata": {},
     "output_type": "execute_result"
    }
   ],
   "source": [
    "message.get_addresses(\"from\")"
   ]
  },
  {
   "cell_type": "code",
   "execution_count": 25,
   "metadata": {},
   "outputs": [
    {
     "data": {
      "text/plain": [
       "[('ratanon97@hotmail.com', 'ratanon97@hotmail.com')]"
      ]
     },
     "execution_count": 25,
     "metadata": {},
     "output_type": "execute_result"
    }
   ],
   "source": [
    "message.get_addresses(\"to\")"
   ]
  },
  {
   "cell_type": "code",
   "execution_count": 26,
   "metadata": {},
   "outputs": [
    {
     "data": {
      "text/plain": [
       "[]"
      ]
     },
     "execution_count": 26,
     "metadata": {},
     "output_type": "execute_result"
    }
   ],
   "source": [
    "message.get_addresses(\"bcc\")"
   ]
  },
  {
   "cell_type": "code",
   "execution_count": 30,
   "metadata": {},
   "outputs": [],
   "source": [
    "#To get the body of a text\n",
    "#Check if its text or HTML"
   ]
  },
  {
   "cell_type": "code",
   "execution_count": 28,
   "metadata": {},
   "outputs": [
    {
     "data": {
      "text/plain": [
       "True"
      ]
     },
     "execution_count": 28,
     "metadata": {},
     "output_type": "execute_result"
    }
   ],
   "source": [
    "message.text_part #Check if its text part"
   ]
  },
  {
   "cell_type": "code",
   "execution_count": 29,
   "metadata": {},
   "outputs": [
    {
     "data": {
      "text/plain": [
       "MailPart<*text/html charset=UTF-8 len=31569>"
      ]
     },
     "execution_count": 29,
     "metadata": {},
     "output_type": "execute_result"
    }
   ],
   "source": [
    "message.html_part #Check if its HTML part"
   ]
  },
  {
   "cell_type": "code",
   "execution_count": 31,
   "metadata": {},
   "outputs": [
    {
     "data": {
      "text/plain": [
       "'<!doctype html><html><head>\\r\\n<meta http-equiv=\"Content-Type\" content=\"text/html; charset=utf-8\"><meta name=\"viewport\" content=\"width=device-width\">\\r\\n \\r\\n <title>\\r\\n 48 hours left! Up to 80% OFF Korean Beauty &amp; Fashion - Act Now! </title>\\r\\n <style type=\"text/css\">\\r\\n // NO_INLINE_STYLE_REPLACEMENT\\r\\n body{background-color:#FFF}\\r\\n body, td{font-size:12px; font-family:arial, helvetica, verdana; -webkit-font-smoothing: antialiased; -webkit-text-size-adjust:100%}\\r\\n a{color:#363} \\r\\n img{vertical-align:middle}\\r\\n @media (max-width: 625px) {\\r\\n .sm-invisible{display:none!important}\\r\\n .deviceWidth, .contentWidth, .xs-responsive{width:100%!important; padding:0; margin:0 auto}\\r\\n .prdblock{width:48%!important}\\r\\n } \\r\\n @media (max-width: 540px) {\\r\\n .xs-responsive, .collogo, .colissue{width:100%!important}\\r\\n .xs-invisible, .gmblock{display:none!important}\\r\\n .text-left, .text-right{text-align:center!important}\\r\\n } \\r\\n @media handheld, only screen and (max-width: 350px) {\\r\\n .xxs-responsive{width:290px} \\r\\n .hlblock{width:100% !important}\\r\\n } \\r\\n @media handheld, only screen and (min-width: 351px) { \\r\\n .xxs-responsive{width:48%}\\r\\n .hlblock{width:50%}\\r\\n } \\r\\n .text-left{text-align:left}\\r\\n .text-right{text-align:right}\\r\\n .deviceWidth{width:600px}\\r\\n .xs-invisible{display:block}\\r\\n .collogo{width:35%}\\r\\n .colissue{width:65%}\\r\\n .prdblock{width:33%\\\\9 !important; margin:1px\\\\9}\\r\\n </style> \\r\\n </head>\\r\\n <body text=\"#666666\" vlink=\"#444444\" alink=\"#444444\" link=\"#666666\">\\r\\n <center>\\r\\n <div style=\"width:600px; margin:0 auto; padding-bottom:5px; text-align:center\" class=\"deviceWidth\"> \\r\\n <span class=\"text-left collogo\" style=\"float:left; display:inline-block; vertical-align:bottom; padding:7px 0; text-align:left\">\\r\\n <a href=\"http://jqhgljty.r.us-east-1.awstrack.me/L0/http:%2F%2Fwww.yesstyle.com%2Fassociate-referral.html%3FEY64TZ13%2Bhttp:%2F%2Fwww.yesstyle.com%2Fen%2Fhome.html/1/0100017025015a19-850d67f5-1b9f-442e-88f5-08c0566e1507-000000/tSA11PzR0kT4Cf7kY8GWoVjCsp8=148\"><img src=\"http://s3.amazonaws.com/yimg/newsletter/1013/65893/assets-res-imgs-newsletter-common-newsletter_logo_ys_2x.png\" alt=\"YesStyle.com\" border=\"0\" width=\"153\" height=\"21\"></a>\\r\\n </span><span class=\"text-right colissue\" style=\"float:right; display:inline-block; vertical-align:bottom; padding:13px 0 7px; text-align:right; font-family:arial,helvetica,verdana\">\\r\\n <a href=\"http://jqhgljty.r.us-east-1.awstrack.me/L0/http:%2F%2Fwww.yesstyle.com%2Fassociate-referral.html%3FEY64TZ13%2Bhttp:%2F%2Fwww.yesstyle.com%2Fen%2Fhelp%2Fshipping-rates-delivery%2Fhelp%2Fsection.html%2Fhsi.732%234684/1/0100017025015a19-850d67f5-1b9f-442e-88f5-08c0566e1507-000000/aLzQigKLrRZIta4JEQouZyHipd8=148\" style=\"text-decoration:none; font-size:13px\">\\r\\n <b><font color=\"#FF6600\">FREE Shipping</font></b> <font color=\"#005930\">with any US$ 35 purchase!</font> \\r\\n </a>\\r\\n </span>\\r\\n <br clear=\"all\">\\r\\n </div>\\r\\n\\r\\n\\r\\n\\t<div class=\"deviceWidth\" style=\"margin:0 auto; width:600px; border-top:4px solid #4a4a4a; clear:both; background-color:#f3d1c3;\">\\r\\n <a href=\"http://jqhgljty.r.us-east-1.awstrack.me/L0/http:%2F%2Fwww.yesstyle.com%2Fassociate-referral.html%3FEY64TZ13%2Bhttp:%2F%2Fwww.yesstyle.com%2Fen%2Fwomen-women%2Flist.html%2Fbcc.14068_bpt.46%23%2Fsb=165%26oc=12/1/0100017025015a19-850d67f5-1b9f-442e-88f5-08c0566e1507-000000/OfIM6bnOFIoMPLszYTBtfl3pZH8=148\"><img src=\"http://s3.amazonaws.com/yimg/newsletter/1013/65893/assets-res-imgs-newsletter-2002-kr_sale48_en.jpg\" border=\"0\" title=\"48 hours left! Up to 80% OFF Korean Beauty &amp; Fashion - Act Now!\" width=\"100%\" class=\"xs-responsive\"></a>\\r\\n\\t</div>\\r\\n \\r\\n\\t<div class=\"deviceWidth\" style=\"margin:0 auto; width:600px;\">\\r\\n \\r\\n \\r\\n \\r\\n \\r\\n <div style=\"padding:10px; font-family:arial, helvetica; font-size:13px; background:#e71197; line-height:180%\">\\r\\n <font color=\"#fff\">\\r\\n Shop:&nbsp;\\r\\n <a href=\"http://jqhgljty.r.us-east-1.awstrack.me/L0/http:%2F%2Fwww.yesstyle.com%2Fassociate-referral.html%3FEY64TZ13%2Bhttp:%2F%2Fwww.yesstyle.com%2Fen%2Fwomen-clothing%2Flist.html%2Fbcc.14071_bpt.46/1/0100017025015a19-850d67f5-1b9f-442e-88f5-08c0566e1507-000000/XqmCWH7ES4MOy8UPqOTUdXj6fuM=148\" style=\"color:#fff; white-space:nowrap\" title=\"Clothing\">Clothing</a> &nbsp;|&nbsp;\\r\\n <a href=\"http://jqhgljty.r.us-east-1.awstrack.me/L0/http:%2F%2Fwww.yesstyle.com%2Fassociate-referral.html%3FEY64TZ13%2Bhttp:%2F%2Fwww.yesstyle.com%2Fen%2Fwomen-beauty%2Flist.html%2Fbcc.14072_bpt.46/1/0100017025015a19-850d67f5-1b9f-442e-88f5-08c0566e1507-000000/SuWT03xHzv4d-2wGwDvyeZZMb_o=148\" style=\"color:#fff; white-space:nowrap\" title=\"Beauty\">Beauty</a> &nbsp;|&nbsp;\\r\\n <a href=\"http://jqhgljty.r.us-east-1.awstrack.me/L0/http:%2F%2Fwww.yesstyle.com%2Fassociate-referral.html%3FEY64TZ13%2Bhttp:%2F%2Fwww.yesstyle.com%2Fen%2Fwomen-bags%2Flist.html%2Fbcc.14075_bpt.46/1/0100017025015a19-850d67f5-1b9f-442e-88f5-08c0566e1507-000000/PZ6DF2lF_Her8P7PBnUIc2kSG04=148\" style=\"color:#fff; white-space:nowrap\" title=\"Bags\">Bags</a> &nbsp;|&nbsp;\\r\\n <a href=\"http://jqhgljty.r.us-east-1.awstrack.me/L0/http:%2F%2Fwww.yesstyle.com%2Fassociate-referral.html%3FEY64TZ13%2Bhttp:%2F%2Fwww.yesstyle.com%2Fen%2Fwomen-footwear%2Flist.html%2Fbcc.14074_bpt.46/1/0100017025015a19-850d67f5-1b9f-442e-88f5-08c0566e1507-000000/Yu5QC0kKRalFsr2ZVjW1W1Rv98g=148\" style=\"color:#fff; white-space:nowrap\" title=\"Footwear\">Footwear</a> &nbsp;|&nbsp;\\r\\n <a href=\"http://jqhgljty.r.us-east-1.awstrack.me/L0/http:%2F%2Fwww.yesstyle.com%2Fassociate-referral.html%3FEY64TZ13%2Bhttp:%2F%2Fwww.yesstyle.com%2Fen%2Fwomen-accessories%2Flist.html%2Fbcc.14073_bpt.46/1/0100017025015a19-850d67f5-1b9f-442e-88f5-08c0566e1507-000000/MgRl0ny1fJN_saOau3Ys6v9LlBE=148\" style=\"color:#fff; white-space:nowrap\" title=\"Accessories\">Accessories</a> &nbsp;|&nbsp;\\r\\n <a href=\"http://jqhgljty.r.us-east-1.awstrack.me/L0/http:%2F%2Fwww.yesstyle.com%2Fassociate-referral.html%3FEY64TZ13%2Bhttp:%2F%2Fwww.yesstyle.com%2Fen%2Fwomen-home-lifestyle%2Flist.html%2Fbcc.14076_bpt.46/1/0100017025015a19-850d67f5-1b9f-442e-88f5-08c0566e1507-000000/EuZbznr9asuhXoutkZroCW1ViEg=148\" style=\"color:#fff; white-space:nowrap\" title=\"Home &amp; Lifestyle\">Home &amp; Lifestyle</a> \\r\\n \\r\\n </font>\\r\\n </div>\\r\\n \\r\\n \\r\\n \\r\\n\\r\\n\\r\\n \\r\\n <br>\\r\\n <div class=\"deviceWidth\" style=\"margin:0 auto; width:600px\">\\r\\n <a href=\"http://jqhgljty.r.us-east-1.awstrack.me/L0/http:%2F%2Fwww.yesstyle.com%2Fassociate-referral.html%3FEY64TZ13%2Bhttp:%2F%2Fwww.yesstyle.com%2Fen%2Fwomen-women%2Flist.html%2Fbcc.14068_bpt.46%23%2Fsb=136%26oc=2,30/1/0100017025015a19-850d67f5-1b9f-442e-88f5-08c0566e1507-000000/TVjFNZPHrk511a8PUga1HnA5J4A=148\"><img src=\"http://s3.amazonaws.com/yimg/newsletter/1013/65893/assets-res-imgs-newsletter-2001-instock_edm_banner_en.jpg\" border=\"0\" title=\"Stock Clearance\" width=\"100%\" class=\"xs-responsive\"></a>\\r\\n </div> \\r\\n \\r\\n\\r\\n\\r\\n<br clear=\"all\"><br>\\r\\n\\r\\n \\r\\n<div style=\"margin:0 auto; text-align:justify; font-size:10px; width:600px; font-family:arial,helvetica\" class=\"deviceWidth\">\\r\\n\\r\\n<span class=\"prdblock\" style=\"width:32%; display:inline-block; vertical-align:top\"><a href=\"http://jqhgljty.r.us-east-1.awstrack.me/L0/http:%2F%2Fwww.yesstyle.com%2Fassociate-referral.html%3FEY64TZ13%2Bhttp:%2F%2Fwww.yesstyle.com%2Fen%2Finfo.html%2Fpid.1060981123/1/0100017025015a19-850d67f5-1b9f-442e-88f5-08c0566e1507-000000/WjHEUj3HeNNiQplapVBFNQ3GyS8=148\" style=\"color:#666; font-family:arial,verdana; font-size:8pt; text-decoration:none\"><img src=\"https://d1flfk77wl2xk4.cloudfront.net/Assets/14/900/M_p0071890014.jpg\" border=\"0\" width=\"100%\"><br><span style=\"font-weight:bold; padding:2px 5px; background-color:#F00; color:#FFF; float:right; border-radius: 0 0 0 8px\">60% OFF</span><p style=\"text-align:left; margin-top:3px\"><b style=\"display:inline-block\">3 CONCEPT EYES</b><br>Back To Baby Daily Moisture SPF15 PA&#43; #White 30ml<br><s>US$ 31.90</s> <font color=\"#FF6600\">US$ 12.76</font></a></p><br></span>\\r\\n<span class=\"prdblock\" style=\"width:32%; display:inline-block; vertical-align:top\"><a href=\"http://jqhgljty.r.us-east-1.awstrack.me/L0/http:%2F%2Fwww.yesstyle.com%2Fassociate-referral.html%3FEY64TZ13%2Bhttp:%2F%2Fwww.yesstyle.com%2Fen%2Finfo.html%2Fpid.1059772528/1/0100017025015a19-850d67f5-1b9f-442e-88f5-08c0566e1507-000000/DQUo9Lex4nYEuopMaYe3IlXPvZg=148\" style=\"color:#666; font-family:arial,verdana; font-size:8pt; text-decoration:none\"><img src=\"https://d1flfk77wl2xk4.cloudfront.net/Assets/51/912/M_p0068591251.jpg\" border=\"0\" width=\"100%\"><br><span style=\"font-weight:bold; padding:2px 5px; background-color:#F00; color:#FFF; float:right; border-radius: 0 0 0 8px\">60% OFF</span><p style=\"text-align:left; margin-top:3px\"><b style=\"display:inline-block\">MISSHA</b><br>Near Skin Madecanol Cream 50ml<br><s>US$ 25.90</s> <font color=\"#FF6600\">US$ 10.36</font></a></p><br></span>\\r\\n<span class=\"prdblock\" style=\"width:32%; display:inline-block; vertical-align:top\"><a href=\"http://jqhgljty.r.us-east-1.awstrack.me/L0/http:%2F%2Fwww.yesstyle.com%2Fassociate-referral.html%3FEY64TZ13%2Bhttp:%2F%2Fwww.yesstyle.com%2Fen%2Finfo.html%2Fpid.1070117569/1/0100017025015a19-850d67f5-1b9f-442e-88f5-08c0566e1507-000000/DDq9IqslaJP4Y2X6E8iyTMGmKhg=148\" style=\"color:#666; font-family:arial,verdana; font-size:8pt; text-decoration:none\"><img src=\"https://d1flfk77wl2xk4.cloudfront.net/Assets/65/761/M_p0097576165.jpg\" border=\"0\" width=\"100%\"><br><span style=\"font-weight:bold; padding:2px 5px; background-color:#F00; color:#FFF; float:right; border-radius: 0 0 0 8px\">60% OFF</span><p style=\"text-align:left; margin-top:3px\"><b style=\"display:inline-block\">Isntree</b><br>Micellar Washing Cleansing Water 300ml<br><s>US$ 55.90</s> <font color=\"#FF6600\">US$ 22.36</font></a></p><br></span>\\r\\n<span class=\"prdblock\" style=\"width:32%; display:inline-block; vertical-align:top\"><a href=\"http://jqhgljty.r.us-east-1.awstrack.me/L0/http:%2F%2Fwww.yesstyle.com%2Fassociate-referral.html%3FEY64TZ13%2Bhttp:%2F%2Fwww.yesstyle.com%2Fen%2Finfo.html%2Fpid.1053951186/1/0100017025015a19-850d67f5-1b9f-442e-88f5-08c0566e1507-000000/-FCvU8phH9YIMsiRk_28ferWLek=148\" style=\"color:#666; font-family:arial,verdana; font-size:8pt; text-decoration:none\"><img src=\"https://d1flfk77wl2xk4.cloudfront.net/Assets/32/953/M_p0059395332.jpg\" border=\"0\" width=\"100%\"><br><span style=\"font-weight:bold; padding:2px 5px; background-color:#F00; color:#FFF; float:right; border-radius: 0 0 0 8px\">60% OFF</span><p style=\"text-align:left; margin-top:3px\"><b style=\"display:inline-block\">A\\'PIEU</b><br>Pure Block Mild Plus Sun Cream SPF32 PA&#43;&#43; 50ml<br><s>US$ 17.90</s> <font color=\"#FF6600\">US$ 7.16</font></a></p><br></span>\\r\\n<span class=\"prdblock\" style=\"width:32%; display:inline-block; vertical-align:top\"><a href=\"http://jqhgljty.r.us-east-1.awstrack.me/L0/http:%2F%2Fwww.yesstyle.com%2Fassociate-referral.html%3FEY64TZ13%2Bhttp:%2F%2Fwww.yesstyle.com%2Fen%2Finfo.html%2Fpid.1059992187/1/0100017025015a19-850d67f5-1b9f-442e-88f5-08c0566e1507-000000/X2U9dapQyGYBixdpW_xB04VfdIg=148\" style=\"color:#666; font-family:arial,verdana; font-size:8pt; text-decoration:none\"><img src=\"https://d1flfk77wl2xk4.cloudfront.net/Assets/42/218/M_p0069221842.jpg\" border=\"0\" width=\"100%\"><br><span style=\"font-weight:bold; padding:2px 5px; background-color:#F00; color:#FFF; float:right; border-radius: 0 0 0 8px\">60% OFF</span><p style=\"text-align:left; margin-top:3px\"><b style=\"display:inline-block\">Aritaum</b><br>Mono Eyes (Matt) (20 Colors) <br><s>US$ 10.90</s> <font color=\"#FF6600\">US$ 4.36</font></a></p><br></span>\\r\\n<span class=\"prdblock\" style=\"width:32%; display:inline-block; vertical-align:top\"><a href=\"http://jqhgljty.r.us-east-1.awstrack.me/L0/http:%2F%2Fwww.yesstyle.com%2Fassociate-referral.html%3FEY64TZ13%2Bhttp:%2F%2Fwww.yesstyle.com%2Fen%2Finfo.html%2Fpid.1069109121/1/0100017025015a19-850d67f5-1b9f-442e-88f5-08c0566e1507-000000/sVV8WiFt0v9ZkzIPABZ9uH1MoJI=148\" style=\"color:#666; font-family:arial,verdana; font-size:8pt; text-decoration:none\"><img src=\"https://d1flfk77wl2xk4.cloudfront.net/Assets/92/095/M_p0094909592.jpg\" border=\"0\" width=\"100%\"><br><span style=\"font-weight:bold; padding:2px 5px; background-color:#F00; color:#FFF; float:right; border-radius: 0 0 0 8px\">60% OFF</span><p style=\"text-align:left; margin-top:3px\"><b style=\"display:inline-block\">Mamonde</b><br>Creamy Tint Squeeze Lip Color Autumn (2 Colors)<br><s>US$ 18.90</s> <font color=\"#FF6600\">US$ 7.56</font></a></p><br></span>\\r\\n<span class=\"prdblock\" style=\"width:32%; display:inline-block; vertical-align:top\"><a href=\"http://jqhgljty.r.us-east-1.awstrack.me/L0/http:%2F%2Fwww.yesstyle.com%2Fassociate-referral.html%3FEY64TZ13%2Bhttp:%2F%2Fwww.yesstyle.com%2Fen%2Finfo.html%2Fpid.1064507831/1/0100017025015a19-850d67f5-1b9f-442e-88f5-08c0566e1507-000000/jRlrdiM656dV2MqCwrkeaurzfsE=148\" style=\"color:#666; font-family:arial,verdana; font-size:8pt; text-decoration:none\"><img src=\"https://d1flfk77wl2xk4.cloudfront.net/Assets/10/173/M_p0082117310.jpg\" border=\"0\" width=\"100%\"><br><span style=\"font-weight:bold; padding:2px 5px; background-color:#F00; color:#FFF; float:right; border-radius: 0 0 0 8px\">60% OFF</span><p style=\"text-align:left; margin-top:3px\"><b style=\"display:inline-block\">KLAVUU</b><br>Urban Pearlsation Easy Touch Browcara<br><s>US$ 14.90</s> <font color=\"#FF6600\">US$ 5.96</font></a></p><br></span>\\r\\n<span class=\"prdblock\" style=\"width:32%; display:inline-block; vertical-align:top\"><a href=\"http://jqhgljty.r.us-east-1.awstrack.me/L0/http:%2F%2Fwww.yesstyle.com%2Fassociate-referral.html%3FEY64TZ13%2Bhttp:%2F%2Fwww.yesstyle.com%2Fen%2Finfo.html%2Fpid.1074233789/1/0100017025015a19-850d67f5-1b9f-442e-88f5-08c0566e1507-000000/Yk-RZnEGaupOLkNvmeLs3bTJ4EY=148\" style=\"color:#666; font-family:arial,verdana; font-size:8pt; text-decoration:none\"><img src=\"https://d1flfk77wl2xk4.cloudfront.net/Assets/49/403/M_p0107340349.jpg\" border=\"0\" width=\"100%\"><br><span style=\"font-weight:bold; padding:2px 5px; background-color:#F00; color:#FFF; float:right; border-radius: 0 0 0 8px\">60% OFF</span><p style=\"text-align:left; margin-top:3px\"><b style=\"display:inline-block\">BLACK ROUGE</b><br>Mousse Blending - 5 Colors<br><s>US$ 17.90</s> <font color=\"#FF6600\">US$ 7.16</font></a></p><br></span>\\r\\n<span class=\"prdblock\" style=\"width:32%; display:inline-block; vertical-align:top\"><a href=\"http://jqhgljty.r.us-east-1.awstrack.me/L0/http:%2F%2Fwww.yesstyle.com%2Fassociate-referral.html%3FEY64TZ13%2Bhttp:%2F%2Fwww.yesstyle.com%2Fen%2Finfo.html%2Fpid.1071221827/1/0100017025015a19-850d67f5-1b9f-442e-88f5-08c0566e1507-000000/Hkyon74UPGISFs2vBSprV1TUR6M=148\" style=\"color:#666; font-family:arial,verdana; font-size:8pt; text-decoration:none\"><img src=\"https://d1flfk77wl2xk4.cloudfront.net/Assets/84/990/M_p0100199084.png\" border=\"0\" width=\"100%\"><br><span style=\"font-weight:bold; padding:2px 5px; background-color:#F00; color:#FFF; float:right; border-radius: 0 0 0 8px\">60% OFF</span><p style=\"text-align:left; margin-top:3px\"><b style=\"display:inline-block\">Etude House</b><br>Look At My Eyes Happy With Piglet JEWEL - 7 Colors<br><s>US$ 11.90</s> <font color=\"#FF6600\">US$ 4.76</font></a></p><br></span>\\r\\n<span class=\"prdblock\" style=\"width:32%; display:inline-block; vertical-align:top\"><a href=\"http://jqhgljty.r.us-east-1.awstrack.me/L0/http:%2F%2Fwww.yesstyle.com%2Fassociate-referral.html%3FEY64TZ13%2Bhttp:%2F%2Fwww.yesstyle.com%2Fen%2Finfo.html%2Fpid.1067740480/1/0100017025015a19-850d67f5-1b9f-442e-88f5-08c0566e1507-000000/pZTpVDnEhjDanS_iPm97j11hT_0=148\" style=\"color:#666; font-family:arial,verdana; font-size:8pt; text-decoration:none\"><img src=\"https://d1flfk77wl2xk4.cloudfront.net/Assets/84/459/M_p0091045984.jpg\" border=\"0\" width=\"100%\"><br><span style=\"font-weight:bold; padding:2px 5px; background-color:#F00; color:#FFF; float:right; border-radius: 0 0 0 8px\">80% OFF</span><p style=\"text-align:left; margin-top:3px\"><b style=\"display:inline-block\">Moon City</b><br>Hooded Long-Sleeve Henley Shirt<br><s>US$ 64.90</s> <font color=\"#FF6600\">US$ 12.98</font></a></p><br></span>\\r\\n<span class=\"prdblock\" style=\"width:32%; display:inline-block; vertical-align:top\"><a href=\"http://jqhgljty.r.us-east-1.awstrack.me/L0/http:%2F%2Fwww.yesstyle.com%2Fassociate-referral.html%3FEY64TZ13%2Bhttp:%2F%2Fwww.yesstyle.com%2Fen%2Finfo.html%2Fpid.1077250020/1/0100017025015a19-850d67f5-1b9f-442e-88f5-08c0566e1507-000000/e0wYs1ZgkmdAm1Xvr0Fh7thLMnc=148\" style=\"color:#666; font-family:arial,verdana; font-size:8pt; text-decoration:none\"><img src=\"https://d1flfk77wl2xk4.cloudfront.net/Assets/76/067/M_p0114106776.jpg\" border=\"0\" width=\"100%\"><br><span style=\"font-weight:bold; padding:2px 5px; background-color:#F00; color:#FFF; float:right; border-radius: 0 0 0 8px\">80% OFF</span><p style=\"text-align:left; margin-top:3px\"><b style=\"display:inline-block\">Lemongrass</b><br>Cropped Smocked Top<br><s>US$ 43.90</s> <font color=\"#FF6600\">US$ 8.78</font></a></p><br></span>\\r\\n<span class=\"prdblock\" style=\"width:32%; display:inline-block; vertical-align:top\"><a href=\"http://jqhgljty.r.us-east-1.awstrack.me/L0/http:%2F%2Fwww.yesstyle.com%2Fassociate-referral.html%3FEY64TZ13%2Bhttp:%2F%2Fwww.yesstyle.com%2Fen%2Finfo.html%2Fpid.1068941246/1/0100017025015a19-850d67f5-1b9f-442e-88f5-08c0566e1507-000000/DirBsXjGgTEbX8JqdWw562znxMM=148\" style=\"color:#666; font-family:arial,verdana; font-size:8pt; text-decoration:none\"><img src=\"https://d1flfk77wl2xk4.cloudfront.net/Assets/22/687/M_p0094168722.jpg\" border=\"0\" width=\"100%\"><br><span style=\"font-weight:bold; padding:2px 5px; background-color:#F00; color:#FFF; float:right; border-radius: 0 0 0 8px\">80% OFF</span><p style=\"text-align:left; margin-top:3px\"><b style=\"display:inline-block\">Enoa</b><br>Striped Sweater<br><s>US$ 100.90</s> <font color=\"#FF6600\">US$ 20.18</font></a></p><br></span>\\r\\n<span class=\"prdblock\" style=\"width:32%; display:inline-block; vertical-align:top\"><a href=\"http://jqhgljty.r.us-east-1.awstrack.me/L0/http:%2F%2Fwww.yesstyle.com%2Fassociate-referral.html%3FEY64TZ13%2Bhttp:%2F%2Fwww.yesstyle.com%2Fen%2Finfo.html%2Fpid.1069092840/1/0100017025015a19-850d67f5-1b9f-442e-88f5-08c0566e1507-000000/DwiQF9OL_Ieon5QWNJoNQQlvFII=148\" style=\"color:#666; font-family:arial,verdana; font-size:8pt; text-decoration:none\"><img src=\"https://d1flfk77wl2xk4.cloudfront.net/Assets/51/837/M_p0094883751.jpg\" border=\"0\" width=\"100%\"><br><span style=\"font-weight:bold; padding:2px 5px; background-color:#F00; color:#FFF; float:right; border-radius: 0 0 0 8px\">80% OFF</span><p style=\"text-align:left; margin-top:3px\"><b style=\"display:inline-block\">Dute</b><br>Bell-Sleeve Ribbed Cardigan<br><s>US$ 70.90</s> <font color=\"#FF6600\">US$ 14.18</font></a></p><br></span>\\r\\n<span class=\"prdblock\" style=\"width:32%; display:inline-block; vertical-align:top\"><a href=\"http://jqhgljty.r.us-east-1.awstrack.me/L0/http:%2F%2Fwww.yesstyle.com%2Fassociate-referral.html%3FEY64TZ13%2Bhttp:%2F%2Fwww.yesstyle.com%2Fen%2Finfo.html%2Fpid.1050014890/1/0100017025015a19-850d67f5-1b9f-442e-88f5-08c0566e1507-000000/vR8-9p_4LTyO7mTJEv4WyDRdB7g=148\" style=\"color:#666; font-family:arial,verdana; font-size:8pt; text-decoration:none\"><img src=\"https://d1flfk77wl2xk4.cloudfront.net/Assets/45/254/M_p0052925445.jpg\" border=\"0\" width=\"100%\"><br><span style=\"font-weight:bold; padding:2px 5px; background-color:#F00; color:#FFF; float:right; border-radius: 0 0 0 8px\">80% OFF</span><p style=\"text-align:left; margin-top:3px\"><b style=\"display:inline-block\">Jolly Club</b><br>Split-Neck Lace Trim Blouse<br><s>US$ 50.90</s> <font color=\"#FF6600\">US$ 10.18</font></a></p><br></span>\\r\\n<span class=\"prdblock\" style=\"width:32%; display:inline-block; vertical-align:top\"><a href=\"http://jqhgljty.r.us-east-1.awstrack.me/L0/http:%2F%2Fwww.yesstyle.com%2Fassociate-referral.html%3FEY64TZ13%2Bhttp:%2F%2Fwww.yesstyle.com%2Fen%2Finfo.html%2Fpid.1073582934/1/0100017025015a19-850d67f5-1b9f-442e-88f5-08c0566e1507-000000/dreJc1xR_0bcJz_wX8AvH-N2f88=148\" style=\"color:#666; font-family:arial,verdana; font-size:8pt; text-decoration:none\"><img src=\"https://d1flfk77wl2xk4.cloudfront.net/Assets/31/190/M_p0105719031.jpg\" border=\"0\" width=\"100%\"><br><span style=\"font-weight:bold; padding:2px 5px; background-color:#F00; color:#FFF; float:right; border-radius: 0 0 0 8px\">80% OFF</span><p style=\"text-align:left; margin-top:3px\"><b style=\"display:inline-block\">JIUHOJI</b><br>Midi Accordion Pleat Skirt<br><s>US$ 72.90</s> <font color=\"#FF6600\">US$ 14.58</font></a></p><br></span>\\r\\n<span class=\"prdblock\" style=\"width:32%; display:inline-block; vertical-align:top\"><a href=\"http://jqhgljty.r.us-east-1.awstrack.me/L0/http:%2F%2Fwww.yesstyle.com%2Fassociate-referral.html%3FEY64TZ13%2Bhttp:%2F%2Fwww.yesstyle.com%2Fen%2Finfo.html%2Fpid.1073477316/1/0100017025015a19-850d67f5-1b9f-442e-88f5-08c0566e1507-000000/0VMufQfuK7_384Rdg0OvoDnhLYQ=148\" style=\"color:#666; font-family:arial,verdana; font-size:8pt; text-decoration:none\"><img src=\"https://d1flfk77wl2xk4.cloudfront.net/Assets/92/066/M_p0105406692.jpg\" border=\"0\" width=\"100%\"><br><span style=\"font-weight:bold; padding:2px 5px; background-color:#F00; color:#FFF; float:right; border-radius: 0 0 0 8px\">80% OFF</span><p style=\"text-align:left; margin-top:3px\"><b style=\"display:inline-block\">Moon City</b><br>High Waist Denim Shorts<br><s>US$ 72.90</s> <font color=\"#FF6600\">US$ 14.58</font></a></p><br></span>\\r\\n<span class=\"prdblock\" style=\"width:32%; display:inline-block; vertical-align:top\"><a href=\"http://jqhgljty.r.us-east-1.awstrack.me/L0/http:%2F%2Fwww.yesstyle.com%2Fassociate-referral.html%3FEY64TZ13%2Bhttp:%2F%2Fwww.yesstyle.com%2Fen%2Finfo.html%2Fpid.1076778395/1/0100017025015a19-850d67f5-1b9f-442e-88f5-08c0566e1507-000000/8O45xg8hrgW-a6hKSHGk3plZuAE=148\" style=\"color:#666; font-family:arial,verdana; font-size:8pt; text-decoration:none\"><img src=\"https://d1flfk77wl2xk4.cloudfront.net/Assets/72/561/M_p0113056172.jpg\" border=\"0\" width=\"100%\"><br><span style=\"font-weight:bold; padding:2px 5px; background-color:#F00; color:#FFF; float:right; border-radius: 0 0 0 8px\">80% OFF</span><p style=\"text-align:left; margin-top:3px\"><b style=\"display:inline-block\">Idola</b><br>Plain Bar Hair Clip<br><s>US$ 9.90</s> <font color=\"#FF6600\">US$ 1.98</font></a></p><br></span>\\r\\n<span class=\"prdblock\" style=\"width:32%; display:inline-block; vertical-align:top\"><a href=\"http://jqhgljty.r.us-east-1.awstrack.me/L0/http:%2F%2Fwww.yesstyle.com%2Fassociate-referral.html%3FEY64TZ13%2Bhttp:%2F%2Fwww.yesstyle.com%2Fen%2Finfo.html%2Fpid.1062008813/1/0100017025015a19-850d67f5-1b9f-442e-88f5-08c0566e1507-000000/QAbO4qATOBHixpPPLmCHyPHKVPk=148\" style=\"color:#666; font-family:arial,verdana; font-size:8pt; text-decoration:none\"><img src=\"https://d1flfk77wl2xk4.cloudfront.net/Assets/49/187/M_p0073918749.jpg\" border=\"0\" width=\"100%\"><br><span style=\"font-weight:bold; padding:2px 5px; background-color:#F00; color:#FFF; float:right; border-radius: 0 0 0 8px\">80% OFF</span><p style=\"text-align:left; margin-top:3px\"><b style=\"display:inline-block\">A’ROCH</b><br>925 Sterling Silver Rhinestone Zodiac Bracelet<br><s>US$ 23.90</s> <font color=\"#FF6600\">US$ 4.78</font></a></p><br></span>\\r\\n<span style=\"display:inline-block; width:100%; height:1px\"></span>\\r\\n\\r\\n \\r\\n <div style=\"padding:5px; font-family:arial, helvetica; font-size:13px; background:#3d43b8; line-height:180%; margin-top:7px; text-align:center\">\\r\\n <a href=\"http://jqhgljty.r.us-east-1.awstrack.me/L0/http:%2F%2Fwww.yesstyle.com%2Fassociate-referral.html%3FEY64TZ13%2Bhttp:%2F%2Fwww.yesstyle.com%2Fen%2Ffriend-rewards.html/1/0100017025015a19-850d67f5-1b9f-442e-88f5-08c0566e1507-000000/k-1iccBrXam2FY8uilCbqRQOI_k=148\" style=\"color:#fff; text-decoration:none; white-space:nowrap;\" title=\"YesStyle Friend Rewards\"><b>YesStyle Friend Rewards</b><br>Refer your friends &amp; get FREE YesStyle products</a>\\r\\n </div>\\r\\n\\r\\n </div>\\t\\r\\n \\r\\n\\r\\n <br>\\r\\n <div style=\"margin:0 auto; width:600px; text-align:center; background-color:#f1f2f6; padding:18px 0px; border-radius:0 0 5px 5px\" class=\"deviceWidth\">\\r\\n <h3 style=\"font-family:arial; font-size:14px; margin:5px auto\"><a href=\"http://jqhgljty.r.us-east-1.awstrack.me/L0/http:%2F%2Fwww.yesstyle.com%2Fassociate-referral.html%3FEY64TZ13%2Bhttp:%2F%2Fwww.yesstyle.com/1/0100017025015a19-850d67f5-1b9f-442e-88f5-08c0566e1507-000000/tHEwOBan0n-hk496JbUrkLbXDeU=148\" style=\"text-decoration:none; color:#333\">See More at YesStyle.com</a></h3>\\r\\n <font size=\"2\" face=\"arial, verdana\" color=\"#CCCCCC\" style=\"font-size:12px\">\\r\\n <a href=\"http://jqhgljty.r.us-east-1.awstrack.me/L0/http:%2F%2Fwww.yesstyle.com%2Fassociate-referral.html%3FEY64TZ13%2Bhttp:%2F%2Fwww.yesstyle.com%2Fen%2Fwomen.html/1/0100017025015a19-850d67f5-1b9f-442e-88f5-08c0566e1507-000000/A0FEsctWvLjCN9H9BMUiLokpt0I=148\" style=\"color:#363; text-decoration:none\">Women</a>&nbsp; | &nbsp;<a href=\"http://jqhgljty.r.us-east-1.awstrack.me/L0/http:%2F%2Fwww.yesstyle.com%2Fassociate-referral.html%3FEY64TZ13%2Bhttp:%2F%2Fwww.yesstyle.com%2Fen%2Fmen.html/1/0100017025015a19-850d67f5-1b9f-442e-88f5-08c0566e1507-000000/ysR88QLAXkkssvfRRd0X53hL4vo=148\" style=\"color:#363; text-decoration:none\">Men</a>&nbsp; | &nbsp;<a href=\"http://jqhgljty.r.us-east-1.awstrack.me/L0/http:%2F%2Fwww.yesstyle.com%2Fassociate-referral.html%3FEY64TZ13%2Bhttp:%2F%2Fwww.yesstyle.com%2Fen%2Fbabies-and-kids.html/1/0100017025015a19-850d67f5-1b9f-442e-88f5-08c0566e1507-000000/vzqjER_1XFIFb9Xs2vXHKhE8Oh8=148\" style=\"color:#363; text-decoration:none\">Kids</a>&nbsp; | &nbsp;<a href=\"http://jqhgljty.r.us-east-1.awstrack.me/L0/http:%2F%2Fwww.yesstyle.com%2Fassociate-referral.html%3FEY64TZ13%2Bhttp:%2F%2Fwww.yesstyle.com%2Fen%2Fbeauty.html/1/0100017025015a19-850d67f5-1b9f-442e-88f5-08c0566e1507-000000/Q-cve-wJLJkPjbiPOBiswfwauKo=148\" style=\"color:#363; text-decoration:none\">Beauty</a>&nbsp; | &nbsp;<a href=\"http://jqhgljty.r.us-east-1.awstrack.me/L0/http:%2F%2Fwww.yesstyle.com%2Fassociate-referral.html%3FEY64TZ13%2Bhttp:%2F%2Fwww.yesstyle.com%2Fen%2Fspecial-offers.html/1/0100017025015a19-850d67f5-1b9f-442e-88f5-08c0566e1507-000000/41jVDw69fb1aoc7b9i4v3ZLTUFk=148\" style=\"color:#363; text-decoration:none\">Special Offers</a>&nbsp; | &nbsp;<a href=\"http://jqhgljty.r.us-east-1.awstrack.me/L0/http:%2F%2Fwww.yesstyle.com%2Fassociate-referral.html%3FEY64TZ13%2Bhttp:%2F%2Fwww.yesstyle.com%2Fblog/1/0100017025015a19-850d67f5-1b9f-442e-88f5-08c0566e1507-000000/oeUkd0DumFCfo6RbOfWLsXlJJZA=148\" style=\"color:#363; text-decoration:none\">Blog</a> \\r\\n </font>\\r\\n <br><br> \\r\\n <div style=\"text-align:center; font-family:arial,helvetica; font-size:12px\"> \\r\\n <h3 style=\"font-family:arial; font-size:14px; color:#333; margin:5px auto\">Connect with us</h3> <a href=\"http://jqhgljty.r.us-east-1.awstrack.me/L0/http:%2F%2Fwww.facebook.com%2Fyesstyle/1/0100017025015a19-850d67f5-1b9f-442e-88f5-08c0566e1507-000000/bfpXnQ0xBxdKgLacZN-gh7Q3GQw=148\"><img src=\"http://s3.amazonaws.com/yimg/newsletter/1013/65893/assets-res-imgs-newsletter-common-ic_facebook40.gif\" border=\"0\" hspace=\"2\" vspace=\"2\" alt=\"Facebook\"></a>\\r\\n <a href=\"http://jqhgljty.r.us-east-1.awstrack.me/L0/http:%2F%2Fwww.yesstyle.com%2Fassociate-referral.html%3FEY64TZ13%2Bhttp:%2F%2Fwww.twitter.com%2Fyesstyle/1/0100017025015a19-850d67f5-1b9f-442e-88f5-08c0566e1507-000000/Lj7aVDX-o3hX4kAohiufE5woLi0=148\"><img src=\"http://s3.amazonaws.com/yimg/newsletter/1013/65893/assets-res-imgs-newsletter-common-ic_twitter40.gif\" border=\"0\" hspace=\"2\" vspace=\"2\" alt=\"Twitter\"></a>\\r\\n <a href=\"http://jqhgljty.r.us-east-1.awstrack.me/L0/http:%2F%2Fpinterest.com%2Fyesstyle/1/0100017025015a19-850d67f5-1b9f-442e-88f5-08c0566e1507-000000/gMSEEGL7QOp0G91Ofh_97s-UN-0=148\"><img src=\"http://s3.amazonaws.com/yimg/newsletter/1013/65893/assets-res-imgs-newsletter-common-ic_pinterest40.gif\" border=\"0\" hspace=\"2\" vspace=\"2\" alt=\"Pinterest\"></a>\\r\\n <a href=\"http://jqhgljty.r.us-east-1.awstrack.me/L0/http:%2F%2Fwww.yesstyle.com%2Fassociate-referral.html%3FEY64TZ13%2Bhttp:%2F%2Finstagram.com%2Fyesstyle/1/0100017025015a19-850d67f5-1b9f-442e-88f5-08c0566e1507-000000/SLmN771LRqLFGb2oPkkXc4Msnqg=148\"><img src=\"http://s3.amazonaws.com/yimg/newsletter/1013/65893/assets-res-imgs-newsletter-common-ic_instagram40.gif\" border=\"0\" hspace=\"2\" vspace=\"2\" alt=\"Instagram\"></a>\\r\\n <a href=\"http://jqhgljty.r.us-east-1.awstrack.me/L0/http:%2F%2Fwww.yesstyle.com%2Fassociate-referral.html%3FEY64TZ13%2Bhttp:%2F%2Fwww.youtube.com%2Fyesstyle/1/0100017025015a19-850d67f5-1b9f-442e-88f5-08c0566e1507-000000/HHybpxxgoZQA-x4ad0Wr7QzgUIY=148\"><img src=\"http://s3.amazonaws.com/yimg/newsletter/1013/65893/assets-res-imgs-newsletter-common-ic_youtube40.gif\" border=\"0\" hspace=\"2\" vspace=\"2\" alt=\"Youtube\"></a>\\r\\n <a href=\"http://jqhgljty.r.us-east-1.awstrack.me/L0/http:%2F%2Fwww.yesstyle.com%2Fassociate-referral.html%3FEY64TZ13%2Bhttp:%2F%2Fyesstyle.tumblr.com/1/0100017025015a19-850d67f5-1b9f-442e-88f5-08c0566e1507-000000/8sGIduiM1llb7P1_FePulsPJpmU=148\"><img src=\"http://s3.amazonaws.com/yimg/newsletter/1013/65893/assets-res-imgs-newsletter-common-ic_tumblr40.gif\" border=\"0\" hspace=\"2\" vspace=\"2\" alt=\"Tumblr\"></a>\\r\\n </div>\\r\\n </div>\\r\\n <div style=\"width:600px; margin:0 auto; text-align:center\" class=\"deviceWidth\">\\r\\n <br><font size=\"1\" face=\"arial,verdana\" color=\"#666666\" style=\"font-size:8pt\">\\r\\n Prices and availability of the above products are subject to change, and may not always reflect the information provided. Please refer to YesStyle website for actual prices and availability.<br><br>To ensure receipt of our emails, please add @YesStyle.com to your Address Book or Contacts. Thank you!<br><br>This email is addressed to ratanon97@hotmail.com<br>To unsubscribe from the YesStyle.com newsletter, please click <a href=\"https://jqhgljty.r.us-east-1.awstrack.me/L0/https:%2F%2Fwww.yesstyle.com%2Fen%2Fnewsletter-unsubscribe.html%2Fentne.VBZ%25252FJ2uKiTZe1vYljHsB%25252FHIQpi7Gf5rESFx7VZvHU4E%25253D/1/0100017025015a19-850d67f5-1b9f-442e-88f5-08c0566e1507-000000/_E-HicR8JALamLPAIJlqAe4qbYg=148\">here</a>,<br>or <a href=\"http://jqhgljty.r.us-east-1.awstrack.me/L0/http:%2F%2Fwww.yesstyle.com%2Fassociate-referral.html%3FEY64TZ13%2Bhttp:%2F%2Fwww.yesstyle.com%2Fen%2Fsecure%2Fmyaccount%2Femail-preference.html/1/0100017025015a19-850d67f5-1b9f-442e-88f5-08c0566e1507-000000/e3iVMd9iaOmxaWjgQ4jtnRNvckw=148\">log into your YesStyle account</a> and update your email preferences.<br><br>此電郵致 ratanon97@hotmail.com<br>若你不想收到 YesStyle.com - 電郵通訊，請<a href=\"https://jqhgljty.r.us-east-1.awstrack.me/L0/https:%2F%2Fwww.yesstyle.com%2Fen%2Fnewsletter-unsubscribe.html%2Fentne.VBZ%25252FJ2uKiTZe1vYljHsB%25252FHIQpi7Gf5rESFx7VZvHU4E%25253D/2/0100017025015a19-850d67f5-1b9f-442e-88f5-08c0566e1507-000000/c0jgmezNz_foCzh2QxJpZwQZmJo=148\">按此</a>連結或<a href=\"http://jqhgljty.r.us-east-1.awstrack.me/L0/http:%2F%2Fwww.yesstyle.com%2Fassociate-referral.html%3FEY64TZ13%2Bhttp:%2F%2Fwww.yesstyle.com%2Fen%2Fsecure%2Fmyaccount%2Femail-preference.html/2/0100017025015a19-850d67f5-1b9f-442e-88f5-08c0566e1507-000000/yXe0dXZbEYWD1r3wktp1_1EKNoE=148\">登入</a>你的 YesStyle 戶口並更新你的電郵通訊設定。<br><br>Copyright © 2006-2020 YESSTYLE.COM LTD. All rights reserved.<br><br>19/F., Wyler Centre Phase II, 192-200 Tai Lin Pai Road, Kwai Chung, New Territories, Hong Kong.<br>香港新界葵涌大連排道 192-200 號偉倫中心 2 期 19 樓<br><br>Tel/電話: (852)2746-7077&nbsp;&nbsp;&nbsp;&nbsp;&nbsp;Email/電郵: news@e.yesstyle.com \\r\\n </font>\\r\\n </div> \\r\\n </center>\\r\\n <img alt=\"\" src=\"http://jqhgljty.r.us-east-1.awstrack.me/I0/0100017025015a19-850d67f5-1b9f-442e-88f5-08c0566e1507-000000/RE0hfg2vh3AHlMFSD38gMcAILeg=148\" style=\"display: none; width: 1px; height: 1px;\">\\r\\n</body>\\r\\n <img src=\"http://www.yesstyle.com/newsletter-job-open-rate-tracking-filter?enjine=VBZ%252FJ2uKiTZe1vYljHsB%252FHIQpi7Gf5rE2kAMcSSs0Hs%253D\" height=\"1\" width=\"1\"> \\r\\n</html>\\r\\n'"
      ]
     },
     "execution_count": 31,
     "metadata": {},
     "output_type": "execute_result"
    }
   ],
   "source": [
    "message.html_part.get_payload().decode(\"UTF-8\")"
   ]
  },
  {
   "cell_type": "code",
   "execution_count": null,
   "metadata": {},
   "outputs": [],
   "source": [
    "#Deleting Emails"
   ]
  },
  {
   "cell_type": "code",
   "execution_count": 32,
   "metadata": {},
   "outputs": [
    {
     "data": {
      "text/plain": [
       "{b'PERMANENTFLAGS': (b'\\\\Seen',\n",
       "  b'\\\\Answered',\n",
       "  b'\\\\Flagged',\n",
       "  b'\\\\Deleted',\n",
       "  b'\\\\Draft',\n",
       "  b'$MDNSent'),\n",
       " b'EXISTS': 203,\n",
       " b'RECENT': 203,\n",
       " b'FLAGS': (b'\\\\Seen',\n",
       "  b'\\\\Answered',\n",
       "  b'\\\\Flagged',\n",
       "  b'\\\\Deleted',\n",
       "  b'\\\\Draft',\n",
       "  b'$MDNSent'),\n",
       " b'UNSEEN': [b'1'],\n",
       " b'UIDVALIDITY': 215,\n",
       " b'UIDNEXT': 9106,\n",
       " b'READ-WRITE': True}"
      ]
     },
     "execution_count": 32,
     "metadata": {},
     "output_type": "execute_result"
    }
   ],
   "source": [
    "conn.select_folder(\"Junk\",readonly = False)"
   ]
  },
  {
   "cell_type": "code",
   "execution_count": 33,
   "metadata": {},
   "outputs": [],
   "source": [
    "UIDS = conn.search([\"ALL\"])"
   ]
  },
  {
   "cell_type": "code",
   "execution_count": 34,
   "metadata": {},
   "outputs": [
    {
     "data": {
      "text/plain": [
       "[8859,\n",
       " 8860,\n",
       " 8861,\n",
       " 8863,\n",
       " 8864,\n",
       " 8866,\n",
       " 8867,\n",
       " 8868,\n",
       " 8869,\n",
       " 8871,\n",
       " 8873,\n",
       " 8874,\n",
       " 8875,\n",
       " 8876,\n",
       " 8877,\n",
       " 8878,\n",
       " 8879,\n",
       " 8882,\n",
       " 8883,\n",
       " 8885,\n",
       " 8886,\n",
       " 8887,\n",
       " 8888,\n",
       " 8889,\n",
       " 8890,\n",
       " 8891,\n",
       " 8892,\n",
       " 8893,\n",
       " 8894,\n",
       " 8895,\n",
       " 8896,\n",
       " 8897,\n",
       " 8898,\n",
       " 8899,\n",
       " 8900,\n",
       " 8901,\n",
       " 8902,\n",
       " 8904,\n",
       " 8905,\n",
       " 8906,\n",
       " 8908,\n",
       " 8910,\n",
       " 8911,\n",
       " 8912,\n",
       " 8913,\n",
       " 8915,\n",
       " 8916,\n",
       " 8917,\n",
       " 8918,\n",
       " 8919,\n",
       " 8920,\n",
       " 8921,\n",
       " 8922,\n",
       " 8923,\n",
       " 8924,\n",
       " 8925,\n",
       " 8926,\n",
       " 8927,\n",
       " 8928,\n",
       " 8929,\n",
       " 8930,\n",
       " 8931,\n",
       " 8932,\n",
       " 8933,\n",
       " 8934,\n",
       " 8935,\n",
       " 8936,\n",
       " 8937,\n",
       " 8938,\n",
       " 8939,\n",
       " 8940,\n",
       " 8941,\n",
       " 8942,\n",
       " 8943,\n",
       " 8944,\n",
       " 8945,\n",
       " 8946,\n",
       " 8947,\n",
       " 8948,\n",
       " 8949,\n",
       " 8950,\n",
       " 8951,\n",
       " 8952,\n",
       " 8953,\n",
       " 8954,\n",
       " 8955,\n",
       " 8956,\n",
       " 8957,\n",
       " 8958,\n",
       " 8959,\n",
       " 8960,\n",
       " 8961,\n",
       " 8962,\n",
       " 8973,\n",
       " 8974,\n",
       " 8975,\n",
       " 8977,\n",
       " 8979,\n",
       " 8980,\n",
       " 8981,\n",
       " 8982,\n",
       " 8983,\n",
       " 8984,\n",
       " 8985,\n",
       " 8986,\n",
       " 8987,\n",
       " 8988,\n",
       " 8989,\n",
       " 8991,\n",
       " 8992,\n",
       " 8993,\n",
       " 8994,\n",
       " 8995,\n",
       " 8996,\n",
       " 8998,\n",
       " 8999,\n",
       " 9000,\n",
       " 9001,\n",
       " 9002,\n",
       " 9003,\n",
       " 9004,\n",
       " 9006,\n",
       " 9007,\n",
       " 9008,\n",
       " 9009,\n",
       " 9011,\n",
       " 9012,\n",
       " 9013,\n",
       " 9014,\n",
       " 9015,\n",
       " 9016,\n",
       " 9017,\n",
       " 9018,\n",
       " 9019,\n",
       " 9020,\n",
       " 9022,\n",
       " 9023,\n",
       " 9024,\n",
       " 9025,\n",
       " 9026,\n",
       " 9027,\n",
       " 9028,\n",
       " 9029,\n",
       " 9030,\n",
       " 9032,\n",
       " 9033,\n",
       " 9034,\n",
       " 9035,\n",
       " 9036,\n",
       " 9037,\n",
       " 9038,\n",
       " 9039,\n",
       " 9041,\n",
       " 9042,\n",
       " 9043,\n",
       " 9046,\n",
       " 9047,\n",
       " 9048,\n",
       " 9049,\n",
       " 9050,\n",
       " 9051,\n",
       " 9052,\n",
       " 9055,\n",
       " 9056,\n",
       " 9057,\n",
       " 9058,\n",
       " 9059,\n",
       " 9060,\n",
       " 9062,\n",
       " 9064,\n",
       " 9065,\n",
       " 9068,\n",
       " 9069,\n",
       " 9070,\n",
       " 9071,\n",
       " 9072,\n",
       " 9073,\n",
       " 9074,\n",
       " 9075,\n",
       " 9077,\n",
       " 9079,\n",
       " 9081,\n",
       " 9082,\n",
       " 9084,\n",
       " 9085,\n",
       " 9086,\n",
       " 9087,\n",
       " 9089,\n",
       " 9090,\n",
       " 9091,\n",
       " 9092,\n",
       " 9093,\n",
       " 9094,\n",
       " 9095,\n",
       " 9096,\n",
       " 9098,\n",
       " 9099,\n",
       " 9100,\n",
       " 9101,\n",
       " 9102,\n",
       " 9103,\n",
       " 9104,\n",
       " 9105]"
      ]
     },
     "execution_count": 34,
     "metadata": {},
     "output_type": "execute_result"
    }
   ],
   "source": [
    "UIDS"
   ]
  },
  {
   "cell_type": "code",
   "execution_count": 35,
   "metadata": {},
   "outputs": [
    {
     "data": {
      "text/plain": [
       "{}"
      ]
     },
     "execution_count": 35,
     "metadata": {},
     "output_type": "execute_result"
    }
   ],
   "source": [
    "conn.delete_messages(UIDS)"
   ]
  },
  {
   "cell_type": "code",
   "execution_count": 36,
   "metadata": {},
   "outputs": [
    {
     "data": {
      "text/plain": [
       "b'Microsoft Exchange Server IMAP4 server signing off.'"
      ]
     },
     "execution_count": 36,
     "metadata": {},
     "output_type": "execute_result"
    }
   ],
   "source": [
    "conn.logout()"
   ]
  }
 ],
 "metadata": {
  "kernelspec": {
   "display_name": "Python 3",
   "language": "python",
   "name": "python3"
  },
  "language_info": {
   "codemirror_mode": {
    "name": "ipython",
    "version": 3
   },
   "file_extension": ".py",
   "mimetype": "text/x-python",
   "name": "python",
   "nbconvert_exporter": "python",
   "pygments_lexer": "ipython3",
   "version": "3.7.3"
  }
 },
 "nbformat": 4,
 "nbformat_minor": 2
}
